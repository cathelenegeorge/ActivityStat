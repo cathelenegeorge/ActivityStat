{
 "cells": [
  {
   "cell_type": "code",
   "execution_count": 16,
   "metadata": {},
   "outputs": [],
   "source": [
    "import pandas as pd\n",
    "from sklearn.model_selection import train_test_split\n",
    "from sklearn.ensemble import RandomForestClassifier\n",
    "from sklearn.metrics import confusion_matrix, accuracy_score, precision_score \n",
    "import seaborn as sns\n",
    "import matplotlib.pyplot as plt"
   ]
  },
  {
   "cell_type": "code",
   "execution_count": 13,
   "metadata": {},
   "outputs": [
    {
     "name": "stdout",
     "output_type": "stream",
     "text": [
      "   tBodyAcc-mean()-X  tBodyAcc-mean()-Y  tBodyAcc-mean()-Z  tBodyAcc-std()-X  \\\n",
      "0           0.288585          -0.020294          -0.132905         -0.995279   \n",
      "1           0.278419          -0.016411          -0.123520         -0.998245   \n",
      "\n",
      "   tBodyAcc-std()-Y  tBodyAcc-std()-Z  tBodyAcc-mad()-X  tBodyAcc-mad()-Y  \\\n",
      "0         -0.983111         -0.913526         -0.995112         -0.983185   \n",
      "1         -0.975300         -0.960322         -0.998807         -0.974914   \n",
      "\n",
      "   tBodyAcc-mad()-Z  tBodyAcc-max()-X  ...  fBodyBodyGyroJerkMag-kurtosis()  \\\n",
      "0         -0.923527         -0.934724  ...                        -0.710304   \n",
      "1         -0.957686         -0.943068  ...                        -0.861499   \n",
      "\n",
      "   angle(tBodyAccMean,gravity)  angle(tBodyAccJerkMean),gravityMean)  \\\n",
      "0                    -0.112754                              0.030400   \n",
      "1                     0.053477                             -0.007435   \n",
      "\n",
      "   angle(tBodyGyroMean,gravityMean)  angle(tBodyGyroJerkMean,gravityMean)  \\\n",
      "0                         -0.464761                             -0.018446   \n",
      "1                         -0.732626                              0.703511   \n",
      "\n",
      "   angle(X,gravityMean)  angle(Y,gravityMean)  angle(Z,gravityMean)  subject  \\\n",
      "0             -0.841247              0.179941             -0.058627        1   \n",
      "1             -0.844788              0.180289             -0.054317        1   \n",
      "\n",
      "   Activity  \n",
      "0  STANDING  \n",
      "1  STANDING  \n",
      "\n",
      "[2 rows x 563 columns]\n"
     ]
    }
   ],
   "source": [
    "df = pd.read_csv(\"train.csv\")\n",
    "print(df.head(2))\n",
    "x = df.drop(\"Activity\",axis = 1)\n",
    "y = df['Activity']\n",
    "x_train,x_test,y_train,y_test = train_test_split(x,y,test_size =0.2,random_state = 42)"
   ]
  },
  {
   "cell_type": "code",
   "execution_count": 14,
   "metadata": {},
   "outputs": [
    {
     "name": "stdout",
     "output_type": "stream",
     "text": [
      "      tBodyAcc-mean()-X  tBodyAcc-mean()-Y  tBodyAcc-mean()-Z  \\\n",
      "4525           0.283203          -0.047024          -0.168986   \n",
      "1446           0.256904          -0.036623          -0.133856   \n",
      "5995           0.291316          -0.001065          -0.072461   \n",
      "4222           0.276116          -0.010909          -0.102886   \n",
      "6754           0.256382           0.000428          -0.113664   \n",
      "5195           0.286792          -0.010171          -0.090510   \n",
      "1888           0.307005          -0.011717          -0.199597   \n",
      "\n",
      "      tBodyAcc-std()-X  tBodyAcc-std()-Y  tBodyAcc-std()-Z  tBodyAcc-mad()-X  \\\n",
      "4525          0.384949          0.176898         -0.310332          0.381757   \n",
      "1446          0.201409         -0.154142          0.344183          0.092771   \n",
      "5995         -0.336609         -0.279162         -0.303323         -0.381421   \n",
      "4222         -0.992196         -0.982169         -0.981127         -0.992838   \n",
      "6754          0.075014          0.046502         -0.369482         -0.024794   \n",
      "5195         -0.541894         -0.171484         -0.405104         -0.562413   \n",
      "1888         -0.193934          0.374201          0.153858         -0.219647   \n",
      "\n",
      "      tBodyAcc-mad()-Y  tBodyAcc-mad()-Z  tBodyAcc-max()-X  ...  \\\n",
      "4525          0.122611         -0.332984          0.465563  ...   \n",
      "1446         -0.182114          0.291899          0.586004  ...   \n",
      "5995         -0.253026         -0.337381          0.074430  ...   \n",
      "4222         -0.981366         -0.979864         -0.931924  ...   \n",
      "6754         -0.085337         -0.385018          0.562230  ...   \n",
      "5195         -0.182418         -0.385245         -0.491629  ...   \n",
      "1888          0.318118          0.135621         -0.152290  ...   \n",
      "\n",
      "      fBodyBodyGyroJerkMag-skewness()  fBodyBodyGyroJerkMag-kurtosis()  \\\n",
      "4525                        -0.730593                        -0.932568   \n",
      "1446                        -0.032958                        -0.338095   \n",
      "5995                        -0.351997                        -0.698254   \n",
      "4222                        -0.623358                        -0.906098   \n",
      "6754                         0.020630                        -0.316113   \n",
      "5195                        -0.271356                        -0.618266   \n",
      "1888                        -0.420250                        -0.744731   \n",
      "\n",
      "      angle(tBodyAccMean,gravity)  angle(tBodyAccJerkMean),gravityMean)  \\\n",
      "4525                    -0.034924                              0.558036   \n",
      "1446                     0.017986                             -0.475545   \n",
      "5995                    -0.044663                             -0.551806   \n",
      "4222                    -0.177275                             -0.309304   \n",
      "6754                     0.347143                              0.590475   \n",
      "5195                    -0.291898                             -0.428998   \n",
      "1888                    -0.341500                              0.703130   \n",
      "\n",
      "      angle(tBodyGyroMean,gravityMean)  angle(tBodyGyroJerkMean,gravityMean)  \\\n",
      "4525                          0.258975                             -0.854858   \n",
      "1446                          0.942947                             -0.567147   \n",
      "5995                         -0.680774                              0.161405   \n",
      "4222                          0.176515                             -0.143818   \n",
      "6754                          0.831084                              0.465453   \n",
      "5195                          0.957119                              0.150076   \n",
      "1888                         -0.649245                              0.145511   \n",
      "\n",
      "      angle(X,gravityMean)  angle(Y,gravityMean)  angle(Z,gravityMean)  \\\n",
      "4525             -0.784330              0.222960             -0.066506   \n",
      "1446             -0.665156              0.178975              0.243362   \n",
      "5995             -0.857202              0.192929              0.046716   \n",
      "4222             -0.625215             -0.106678             -0.147469   \n",
      "6754             -0.860617              0.150598             -0.067109   \n",
      "5195             -0.700403              0.147854             -0.192150   \n",
      "1888             -0.527627              0.276130              0.296395   \n",
      "\n",
      "      subject  \n",
      "4525       22  \n",
      "1446        7  \n",
      "5995       27  \n",
      "4222       21  \n",
      "6754       29  \n",
      "5195       25  \n",
      "1888        8  \n",
      "\n",
      "[7 rows x 562 columns]\n",
      "['WALKING_DOWNSTAIRS' 'WALKING_DOWNSTAIRS' 'WALKING' 'SITTING'\n",
      " 'WALKING_DOWNSTAIRS' 'WALKING' 'WALKING_UPSTAIRS']\n"
     ]
    }
   ],
   "source": [
    "model = RandomForestClassifier(n_estimators = 100,random_state = 42)\n",
    "model.fit(x_train,y_train)\n",
    "y_pred = model.predict(x_test)\n",
    "print(x_test[:7])\n",
    "print(y_pred[:7])\n"
   ]
  },
  {
   "cell_type": "code",
   "execution_count": 18,
   "metadata": {},
   "outputs": [
    {
     "name": "stdout",
     "output_type": "stream",
     "text": [
      "Accuracy: 0.981645139360979\n",
      "Confusion Matrix ; [[280   0   0   0   0   0]\n",
      " [  0 252  10   0   0   0]\n",
      " [  0   8 268   0   0   0]\n",
      " [  0   0   0 243   1   3]\n",
      " [  0   0   0   1 202   3]\n",
      " [  0   0   0   0   1 199]]\n"
     ]
    }
   ],
   "source": [
    "accuracy = accuracy_score(y_test,y_pred)\n",
    "print(\"Accuracy:\",accuracy)\n",
    "confusion_matrix = confusion_matrix(y_test,y_pred)\n",
    "print(\"Confusion Matrix ;\",confusion_matrix)\n"
   ]
  },
  {
   "cell_type": "code",
   "execution_count": 20,
   "metadata": {},
   "outputs": [
    {
     "data": {
      "text/plain": [
       "Text(0.5, 1.0, 'Visualisation of Confusion Matrix')"
      ]
     },
     "execution_count": 20,
     "metadata": {},
     "output_type": "execute_result"
    },
    {
     "data": {
      "image/png": "[encoded data removed]",
      "text/plain": [
       "<Figure size 640x480 with 2 Axes>"
      ]
     },
     "metadata": {},
     "output_type": "display_data"
    }
   ],
   "source": [
    "sns.heatmap(confusion_matrix,annot = True,fmt ='d',cmap = 'Blues')\n",
    "plt.title(\"Visualisation of Confusion Matrix\")"
   ]
  }
 ],
 "metadata": {
  "kernelspec": {
   "display_name": ".venv",
   "language": "python",
   "name": "python3"
  },
  "language_info": {
   "codemirror_mode": {
    "name": "ipython",
    "version": 3
   },
   "file_extension": ".py",
   "mimetype": "text/x-python",
   "name": "python",
   "nbconvert_exporter": "python",
   "pygments_lexer": "ipython3",
   "version": "3.12.6"
  }
 },
 "nbformat": 4,
 "nbformat_minor": 2
}
